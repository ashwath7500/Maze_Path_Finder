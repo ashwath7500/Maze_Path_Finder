{
 "cells": [
  {
   "cell_type": "code",
   "execution_count": 1,
   "metadata": {},
   "outputs": [],
   "source": [
    "matrix=[\n",
    "['1','1','1','1','1','1','1','1','1','1','1','1','1','1','1'],\n",
    "['1','.','.','.','.','.','.','.','E','.','1','.','1','.','1'],\n",
    "['1','.','.','1','1','.','1','1','1','1','1','.','.','.','1'],\n",
    "['1','.','.','.','1','.','1','1','1','1','1','.','1','1','1'],\n",
    "['1','1','1','.','.','.','.','.','.','.','.','.','S','.','1'],\n",
    "['1','1','1','1','1','1','1','1','1','1','1','1','1','1','1']\n",
    "]\n",
    "mat=[\n",
    "['1','1','1','1','1','1','1','1','1','1','1','1','1','1','1'],\n",
    "['1','.','.','.','.','.','.','.','E','.','1','.','1','.','1'],\n",
    "['1','.','.','1','1','.','1','1','1','1','1','.','.','.','1'],\n",
    "['1','.','.','.','1','.','1','1','1','1','1','.','1','1','1'],\n",
    "['1','1','1','.','.','.','.','.','.','.','.','.','S','.','1'],\n",
    "['1','1','1','1','1','1','1','1','1','1','1','1','1','1','1']\n",
    "]\n",
    "state=[0,1]\n",
    "action_space=[0,1,2,3]"
   ]
  },
  {
   "cell_type": "code",
   "execution_count": 2,
   "metadata": {},
   "outputs": [],
   "source": [
    "def show():\n",
    "    for i in range(6):\n",
    "        for j in range(len(mat[0])):\n",
    "            print(mat[i][j],end=\" \");\n",
    "        print(\"\\n\");"
   ]
  },
  {
   "cell_type": "code",
   "execution_count": 3,
   "metadata": {},
   "outputs": [],
   "source": [
    "def reset():\n",
    "    for i in range(6):\n",
    "        for j in range(len(matrix[0])):\n",
    "            mat[i][j]=matrix[i][j]\n",
    "    for i in range(6):\n",
    "        for j in range(len(matrix[0])):\n",
    "            if mat[i][j]=='S':\n",
    "                state[0]=i\n",
    "                state[1]=j\n",
    "                break\n",
    "    return st()"
   ]
  },
  {
   "cell_type": "code",
   "execution_count": 4,
   "metadata": {},
   "outputs": [],
   "source": [
    "def st():\n",
    "    return state[0]*15+state[1]"
   ]
  },
  {
   "cell_type": "code",
   "execution_count": 5,
   "metadata": {},
   "outputs": [],
   "source": [
    "def step(action):\n",
    "    for i in range(6):\n",
    "        for j in range(len(matrix[0])):\n",
    "            if mat[i][j]=='S':\n",
    "                state[0]=i;state[1]=j;\n",
    "                break;\n",
    "    if action==0:\n",
    "        if mat[state[0]-1][state[1]]!='1':\n",
    "            mat[state[0]][state[1]]='.';\n",
    "            mat[state[0]-1][state[1]]='S'\n",
    "            state[0]-=1;\n",
    "            if state[0]==1 and state[1]==8:\n",
    "                return 1,st(),True;\n",
    "            else:\n",
    "                return 0,st(),False;\n",
    "        else:\n",
    "            return 0,st(),False;\n",
    "    elif action==1:\n",
    "        if mat[state[0]][state[1]+1]!='1':\n",
    "            mat[state[0]][state[1]]='.'\n",
    "            mat[state[0]][state[1]+1]='S'\n",
    "            state[1]+=1;\n",
    "            if state[0]==1 and state[1]==8:\n",
    "                return 1,st(),True;\n",
    "            else:\n",
    "                return 0,st(),False;\n",
    "        else:\n",
    "            return 0,st(),False;\n",
    "    elif action==2:\n",
    "        if mat[state[0]][state[1]-1]!='1':\n",
    "            mat[state[0]][state[1]]='.'\n",
    "            mat[state[0]][state[1]-1]='S'\n",
    "            state[1]-=1;\n",
    "            if state[0]==1 and state[1]==8:\n",
    "                return 1,st(),True;\n",
    "            else:\n",
    "                return 0,st(),False;\n",
    "        else:\n",
    "            return 0,st(),False;\n",
    "    else:\n",
    "        if mat[state[0]+1][state[1]]!='1':\n",
    "            mat[state[0]][state[1]]='.'\n",
    "            mat[state[0]+1][state[1]]='S'\n",
    "            state[0]+=1;\n",
    "            if state[0]==1 and state[1]==8:\n",
    "                return 1,st(),True;\n",
    "            else:\n",
    "                return 0,st(),False;\n",
    "        else:\n",
    "            return 0,st(),False;"
   ]
  },
  {
   "cell_type": "code",
   "execution_count": 6,
   "metadata": {},
   "outputs": [
    {
     "data": {
      "text/plain": [
       "72"
      ]
     },
     "execution_count": 6,
     "metadata": {},
     "output_type": "execute_result"
    }
   ],
   "source": [
    "reset()"
   ]
  },
  {
   "cell_type": "code",
   "execution_count": null,
   "metadata": {},
   "outputs": [],
   "source": []
  }
 ],
 "metadata": {
  "kernelspec": {
   "display_name": "Python 3",
   "language": "python",
   "name": "python3"
  },
  "language_info": {
   "codemirror_mode": {
    "name": "ipython",
    "version": 3
   },
   "file_extension": ".py",
   "mimetype": "text/x-python",
   "name": "python",
   "nbconvert_exporter": "python",
   "pygments_lexer": "ipython3",
   "version": "3.6.5"
  }
 },
 "nbformat": 4,
 "nbformat_minor": 2
}
